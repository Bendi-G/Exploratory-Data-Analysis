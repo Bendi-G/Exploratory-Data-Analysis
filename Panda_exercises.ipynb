{
 "cells": [
  {
   "cell_type": "markdown",
   "metadata": {},
   "source": [
    "# Some useful Pandas functions"
   ]
  },
  {
   "cell_type": "code",
   "execution_count": 76,
   "metadata": {},
   "outputs": [],
   "source": [
    "import pandas as pd\n",
    "import json"
   ]
  },
  {
   "cell_type": "markdown",
   "metadata": {},
   "source": [
    "1. [Get_prices_for_heaviest_item](#get_prices_for_heaviest_item)\n",
    "2. [Reshape_temperature_data](#reshape_temperature_data)\n",
    "3. [Compute_events_matrix_count](#compute_events_matrix_count)\n",
    "4. [Diff_in_days](#diff_in_days)\n",
    "5. [Return_location](#return_location)\n",
    "6. [Return_post_codes](#Return_post_codes)"
   ]
  },
  {
   "cell_type": "markdown",
   "metadata": {},
   "source": [
    "### 1. Get_prices_for_heaviest_item\n",
    "<a id='get_prices_for_heaviest_item'></a>"
   ]
  },
  {
   "cell_type": "code",
   "execution_count": 77,
   "metadata": {},
   "outputs": [],
   "source": [
    "def get_prices_for_heaviest_item(inventory):\n",
    "    \"\"\"\n",
    "    The function takes a pandas.DataFrame with four column: \"category\", \"price\", \"weight\", \"in_stock\"\n",
    "    and returns a pandas.Series containing the price of the heaviest weight per category of items still in stock.\n",
    "    No items in the same category have the same weight to make things simpler to reason about.\n",
    "    The returned Series should not have an index name and the values should be sorted in descending order.\n",
    "    You should return an empty Series if there are not items in stock for all categories.\n",
    "\n",
    "    :param inventory: pandas.DataFrame with four column \"category\", \"price\", \"weight\", \"in_stock\"\n",
    "    :return: a pandas.Series with the category as index and the selected prices in descending order\n",
    "\n",
    "    \"\"\"\n",
    "\n",
    "    inventory = inventory.loc[inventory[\"in_stock\"]]\n",
    "    inventory = inventory.loc[inventory[\"weight\"] == inventory.groupby(\"category\")[\"weight\"].transform(\"max\")]\n",
    "    return inventory.set_index(\"category\")[\"price\"].rename().sort_values(ascending=False)"
   ]
  },
  {
   "cell_type": "code",
   "execution_count": 78,
   "metadata": {},
   "outputs": [
    {
     "data": {
      "text/html": [
       "<div>\n",
       "<style scoped>\n",
       "    .dataframe tbody tr th:only-of-type {\n",
       "        vertical-align: middle;\n",
       "    }\n",
       "\n",
       "    .dataframe tbody tr th {\n",
       "        vertical-align: top;\n",
       "    }\n",
       "\n",
       "    .dataframe thead th {\n",
       "        text-align: right;\n",
       "    }\n",
       "</style>\n",
       "<table border=\"1\" class=\"dataframe\">\n",
       "  <thead>\n",
       "    <tr style=\"text-align: right;\">\n",
       "      <th></th>\n",
       "      <th>category</th>\n",
       "      <th>price</th>\n",
       "      <th>weight</th>\n",
       "      <th>in_stock</th>\n",
       "    </tr>\n",
       "  </thead>\n",
       "  <tbody>\n",
       "    <tr>\n",
       "      <td>0</td>\n",
       "      <td>electronics</td>\n",
       "      <td>400</td>\n",
       "      <td>740</td>\n",
       "      <td>False</td>\n",
       "    </tr>\n",
       "    <tr>\n",
       "      <td>1</td>\n",
       "      <td>health</td>\n",
       "      <td>5</td>\n",
       "      <td>100</td>\n",
       "      <td>False</td>\n",
       "    </tr>\n",
       "    <tr>\n",
       "      <td>2</td>\n",
       "      <td>electronics</td>\n",
       "      <td>300</td>\n",
       "      <td>6000</td>\n",
       "      <td>True</td>\n",
       "    </tr>\n",
       "    <tr>\n",
       "      <td>3</td>\n",
       "      <td>books</td>\n",
       "      <td>20</td>\n",
       "      <td>300</td>\n",
       "      <td>True</td>\n",
       "    </tr>\n",
       "  </tbody>\n",
       "</table>\n",
       "</div>"
      ],
      "text/plain": [
       "      category  price  weight  in_stock\n",
       "0  electronics    400     740     False\n",
       "1       health      5     100     False\n",
       "2  electronics    300    6000      True\n",
       "3        books     20     300      True"
      ]
     },
     "execution_count": 78,
     "metadata": {},
     "output_type": "execute_result"
    }
   ],
   "source": [
    "#Test function\n",
    "\n",
    "inventory_df = pd.DataFrame({'category':['electronics', 'health', 'electronics', 'books'], 'price':[400, 5, 300, 20],\n",
    "               'weight':[740, 100, 6000, 300], 'in_stock': [False, False, True, True]})\n",
    "inventory_df.head()"
   ]
  },
  {
   "cell_type": "code",
   "execution_count": 79,
   "metadata": {},
   "outputs": [
    {
     "data": {
      "text/plain": [
       "category\n",
       "electronics    300\n",
       "books           20\n",
       "dtype: int64"
      ]
     },
     "execution_count": 79,
     "metadata": {},
     "output_type": "execute_result"
    }
   ],
   "source": [
    "get_prices_for_heaviest_item(inventory_df)"
   ]
  },
  {
   "cell_type": "markdown",
   "metadata": {},
   "source": [
    "### 2. Reshape_temperature_data\n",
    "<a id='reshape_temperature_data'></a>"
   ]
  },
  {
   "cell_type": "code",
   "execution_count": 80,
   "metadata": {},
   "outputs": [],
   "source": [
    "def reshape_temperature_data(measurements):\n",
    "    \"\"\"\n",
    "    The function takes a pandas.DataFrame with 7 columns:\n",
    "     \"location\", 'Jan-2018', 'Feb-2018', 'Mar-2018', \"April-2018\", \"May-2018\", \"June-2018\".\n",
    "    This DataFrame represents temperature measurements in the first two quarter of 2018 for a particular city.\n",
    "    This function should return a new DataFrame containing three columns: \"location\", \"Date\", \"Value\"\n",
    "    and where each row represents a measurement in particular location at a particular date.\n",
    "    The returned pandas.DataFrame should sort the values by location first and then by temperature measurement.\n",
    "    It should also drop any missing values and reset the index of the returned DataFrame.\n",
    "\n",
    "\n",
    "    :param measurements: pandas.DataFrame with seven columns:\n",
    "    \"location\", 'Jan-2018', 'Feb-2018', 'Mar-2018', \"April-2018\", \"May-2018\", \"June-2018\"\n",
    "    :return: a pandas.DataFrame containing three columns \"location\", \"Date\", \"Value\" with a row\n",
    "    for each temperature measurement in a given location. There should be no missing values.\n",
    "    \"\"\"\n",
    "\n",
    "    return pd.melt(measurements, id_vars=[\"location\"], var_name=\"date\").dropna().sort_values(\n",
    "        by=[\"location\", \"value\"]).reset_index(drop=True)"
   ]
  },
  {
   "cell_type": "code",
   "execution_count": 81,
   "metadata": {},
   "outputs": [
    {
     "data": {
      "text/html": [
       "<div>\n",
       "<style scoped>\n",
       "    .dataframe tbody tr th:only-of-type {\n",
       "        vertical-align: middle;\n",
       "    }\n",
       "\n",
       "    .dataframe tbody tr th {\n",
       "        vertical-align: top;\n",
       "    }\n",
       "\n",
       "    .dataframe thead th {\n",
       "        text-align: right;\n",
       "    }\n",
       "</style>\n",
       "<table border=\"1\" class=\"dataframe\">\n",
       "  <thead>\n",
       "    <tr style=\"text-align: right;\">\n",
       "      <th></th>\n",
       "      <th>location</th>\n",
       "      <th>Jan-2018</th>\n",
       "      <th>Feb-2018</th>\n",
       "      <th>Mar-2018</th>\n",
       "      <th>April-2018</th>\n",
       "      <th>May-2018</th>\n",
       "      <th>June-2018</th>\n",
       "    </tr>\n",
       "  </thead>\n",
       "  <tbody>\n",
       "    <tr>\n",
       "      <td>0</td>\n",
       "      <td>Brussels</td>\n",
       "      <td>2</td>\n",
       "      <td>3</td>\n",
       "      <td>8</td>\n",
       "      <td>12.0</td>\n",
       "      <td>14</td>\n",
       "      <td>17</td>\n",
       "    </tr>\n",
       "    <tr>\n",
       "      <td>1</td>\n",
       "      <td>Paris</td>\n",
       "      <td>2</td>\n",
       "      <td>3</td>\n",
       "      <td>9</td>\n",
       "      <td>NaN</td>\n",
       "      <td>15</td>\n",
       "      <td>18</td>\n",
       "    </tr>\n",
       "  </tbody>\n",
       "</table>\n",
       "</div>"
      ],
      "text/plain": [
       "   location  Jan-2018  Feb-2018  Mar-2018  April-2018  May-2018  June-2018\n",
       "0  Brussels         2         3         8        12.0        14         17\n",
       "1     Paris         2         3         9         NaN        15         18"
      ]
     },
     "execution_count": 81,
     "metadata": {},
     "output_type": "execute_result"
    }
   ],
   "source": [
    "## Test function\n",
    "import numpy as np\n",
    "\n",
    "measurements_df = pd.DataFrame({'location':['Brussels', 'Paris'], 'Jan-2018':[2,2], 'Feb-2018':[3,3],\n",
    "                               'Mar-2018':[8,9], 'April-2018':[12,np.NaN], 'May-2018':[14,15], 'June-2018':[17,18]})      \n",
    "\n",
    "\n",
    "measurements_df.head()"
   ]
  },
  {
   "cell_type": "code",
   "execution_count": 82,
   "metadata": {},
   "outputs": [
    {
     "data": {
      "text/html": [
       "<div>\n",
       "<style scoped>\n",
       "    .dataframe tbody tr th:only-of-type {\n",
       "        vertical-align: middle;\n",
       "    }\n",
       "\n",
       "    .dataframe tbody tr th {\n",
       "        vertical-align: top;\n",
       "    }\n",
       "\n",
       "    .dataframe thead th {\n",
       "        text-align: right;\n",
       "    }\n",
       "</style>\n",
       "<table border=\"1\" class=\"dataframe\">\n",
       "  <thead>\n",
       "    <tr style=\"text-align: right;\">\n",
       "      <th></th>\n",
       "      <th>location</th>\n",
       "      <th>date</th>\n",
       "      <th>value</th>\n",
       "    </tr>\n",
       "  </thead>\n",
       "  <tbody>\n",
       "    <tr>\n",
       "      <td>0</td>\n",
       "      <td>Brussels</td>\n",
       "      <td>Jan-2018</td>\n",
       "      <td>2.0</td>\n",
       "    </tr>\n",
       "    <tr>\n",
       "      <td>1</td>\n",
       "      <td>Brussels</td>\n",
       "      <td>Feb-2018</td>\n",
       "      <td>3.0</td>\n",
       "    </tr>\n",
       "    <tr>\n",
       "      <td>2</td>\n",
       "      <td>Brussels</td>\n",
       "      <td>Mar-2018</td>\n",
       "      <td>8.0</td>\n",
       "    </tr>\n",
       "    <tr>\n",
       "      <td>3</td>\n",
       "      <td>Brussels</td>\n",
       "      <td>April-2018</td>\n",
       "      <td>12.0</td>\n",
       "    </tr>\n",
       "    <tr>\n",
       "      <td>4</td>\n",
       "      <td>Brussels</td>\n",
       "      <td>May-2018</td>\n",
       "      <td>14.0</td>\n",
       "    </tr>\n",
       "    <tr>\n",
       "      <td>5</td>\n",
       "      <td>Brussels</td>\n",
       "      <td>June-2018</td>\n",
       "      <td>17.0</td>\n",
       "    </tr>\n",
       "    <tr>\n",
       "      <td>6</td>\n",
       "      <td>Paris</td>\n",
       "      <td>Jan-2018</td>\n",
       "      <td>2.0</td>\n",
       "    </tr>\n",
       "    <tr>\n",
       "      <td>7</td>\n",
       "      <td>Paris</td>\n",
       "      <td>Feb-2018</td>\n",
       "      <td>3.0</td>\n",
       "    </tr>\n",
       "    <tr>\n",
       "      <td>8</td>\n",
       "      <td>Paris</td>\n",
       "      <td>Mar-2018</td>\n",
       "      <td>9.0</td>\n",
       "    </tr>\n",
       "    <tr>\n",
       "      <td>9</td>\n",
       "      <td>Paris</td>\n",
       "      <td>May-2018</td>\n",
       "      <td>15.0</td>\n",
       "    </tr>\n",
       "    <tr>\n",
       "      <td>10</td>\n",
       "      <td>Paris</td>\n",
       "      <td>June-2018</td>\n",
       "      <td>18.0</td>\n",
       "    </tr>\n",
       "  </tbody>\n",
       "</table>\n",
       "</div>"
      ],
      "text/plain": [
       "    location        date  value\n",
       "0   Brussels    Jan-2018    2.0\n",
       "1   Brussels    Feb-2018    3.0\n",
       "2   Brussels    Mar-2018    8.0\n",
       "3   Brussels  April-2018   12.0\n",
       "4   Brussels    May-2018   14.0\n",
       "5   Brussels   June-2018   17.0\n",
       "6      Paris    Jan-2018    2.0\n",
       "7      Paris    Feb-2018    3.0\n",
       "8      Paris    Mar-2018    9.0\n",
       "9      Paris    May-2018   15.0\n",
       "10     Paris   June-2018   18.0"
      ]
     },
     "execution_count": 82,
     "metadata": {},
     "output_type": "execute_result"
    }
   ],
   "source": [
    "reshape_temperature_data(measurements_df)"
   ]
  },
  {
   "cell_type": "markdown",
   "metadata": {},
   "source": [
    "### 3. Compute_events_matrix_count\n",
    "<a id='compute_events_matrix_count'></a>"
   ]
  },
  {
   "cell_type": "code",
   "execution_count": 83,
   "metadata": {},
   "outputs": [],
   "source": [
    "def compute_events_matrix_count(events):\n",
    "    \"\"\"\n",
    "    The function takes a pandas.DataFrame containing 2 columns representing web events for a user:\n",
    "    \"user_id\" and \"event\".\n",
    "    This function should return a new DataFrame where each event value becomes a new column in the returned DataFrame.\n",
    "    We expect the columns (events) to be in alphabetical order.\n",
    "\n",
    "    For each event value, it calculates the count of that particular event for each userid.\n",
    "    Missing values are filled with 0.\n",
    "    Effectively, this function calculates the number of occurrence for each event type (columns) for each user (rows).\n",
    "    You should return an empty Series if the input DataFrame is empty.\n",
    "\n",
    "    :param events: pandas.DataFrame with two columns: \"user_id\" and \"event\"\n",
    "    :return: a pandas.DataFrame returning the number of occurrence for each event type (columns) for each user (rows).\n",
    "    \"\"\"\n",
    "    if events.empty:\n",
    "        return pd.Series()\n",
    "    #\n",
    "    # df = pd.DataFrame(events.groupby(\"user_id\")[\"event\"].value_counts()).unstack().fillna(0)\n",
    "    # df.columns = df.columns.droplevel(0)\n",
    "    # return df\n",
    "\n",
    "    return events.pivot_table(index=\"user_id\", columns=\"event\", aggfunc=\"size\", fill_value=0)"
   ]
  },
  {
   "cell_type": "code",
   "execution_count": 84,
   "metadata": {},
   "outputs": [
    {
     "data": {
      "text/html": [
       "<div>\n",
       "<style scoped>\n",
       "    .dataframe tbody tr th:only-of-type {\n",
       "        vertical-align: middle;\n",
       "    }\n",
       "\n",
       "    .dataframe tbody tr th {\n",
       "        vertical-align: top;\n",
       "    }\n",
       "\n",
       "    .dataframe thead th {\n",
       "        text-align: right;\n",
       "    }\n",
       "</style>\n",
       "<table border=\"1\" class=\"dataframe\">\n",
       "  <thead>\n",
       "    <tr style=\"text-align: right;\">\n",
       "      <th></th>\n",
       "      <th>user_id</th>\n",
       "      <th>event</th>\n",
       "    </tr>\n",
       "  </thead>\n",
       "  <tbody>\n",
       "    <tr>\n",
       "      <td>0</td>\n",
       "      <td>1234</td>\n",
       "      <td>click</td>\n",
       "    </tr>\n",
       "    <tr>\n",
       "      <td>1</td>\n",
       "      <td>4321</td>\n",
       "      <td>click</td>\n",
       "    </tr>\n",
       "    <tr>\n",
       "      <td>2</td>\n",
       "      <td>1234</td>\n",
       "      <td>click</td>\n",
       "    </tr>\n",
       "    <tr>\n",
       "      <td>3</td>\n",
       "      <td>1234</td>\n",
       "      <td>play</td>\n",
       "    </tr>\n",
       "    <tr>\n",
       "      <td>4</td>\n",
       "      <td>4321</td>\n",
       "      <td>play</td>\n",
       "    </tr>\n",
       "  </tbody>\n",
       "</table>\n",
       "</div>"
      ],
      "text/plain": [
       "   user_id  event\n",
       "0     1234  click\n",
       "1     4321  click\n",
       "2     1234  click\n",
       "3     1234   play\n",
       "4     4321   play"
      ]
     },
     "execution_count": 84,
     "metadata": {},
     "output_type": "execute_result"
    }
   ],
   "source": [
    "## Tes function\n",
    "\n",
    "event_matrix = pd.DataFrame({'user_id':[1234, 4321, 1234, 1234, 4321,3456], \n",
    "                             'event':['click','click','click','play','play','pause']})\n",
    "\n",
    "event_matrix.head()"
   ]
  },
  {
   "cell_type": "code",
   "execution_count": 85,
   "metadata": {},
   "outputs": [
    {
     "data": {
      "text/html": [
       "<div>\n",
       "<style scoped>\n",
       "    .dataframe tbody tr th:only-of-type {\n",
       "        vertical-align: middle;\n",
       "    }\n",
       "\n",
       "    .dataframe tbody tr th {\n",
       "        vertical-align: top;\n",
       "    }\n",
       "\n",
       "    .dataframe thead th {\n",
       "        text-align: right;\n",
       "    }\n",
       "</style>\n",
       "<table border=\"1\" class=\"dataframe\">\n",
       "  <thead>\n",
       "    <tr style=\"text-align: right;\">\n",
       "      <th>event</th>\n",
       "      <th>click</th>\n",
       "      <th>pause</th>\n",
       "      <th>play</th>\n",
       "    </tr>\n",
       "    <tr>\n",
       "      <th>user_id</th>\n",
       "      <th></th>\n",
       "      <th></th>\n",
       "      <th></th>\n",
       "    </tr>\n",
       "  </thead>\n",
       "  <tbody>\n",
       "    <tr>\n",
       "      <td>1234</td>\n",
       "      <td>2</td>\n",
       "      <td>0</td>\n",
       "      <td>1</td>\n",
       "    </tr>\n",
       "    <tr>\n",
       "      <td>3456</td>\n",
       "      <td>0</td>\n",
       "      <td>1</td>\n",
       "      <td>0</td>\n",
       "    </tr>\n",
       "    <tr>\n",
       "      <td>4321</td>\n",
       "      <td>1</td>\n",
       "      <td>0</td>\n",
       "      <td>1</td>\n",
       "    </tr>\n",
       "  </tbody>\n",
       "</table>\n",
       "</div>"
      ],
      "text/plain": [
       "event    click  pause  play\n",
       "user_id                    \n",
       "1234         2      0     1\n",
       "3456         0      1     0\n",
       "4321         1      0     1"
      ]
     },
     "execution_count": 85,
     "metadata": {},
     "output_type": "execute_result"
    }
   ],
   "source": [
    "compute_events_matrix_count(event_matrix)"
   ]
  },
  {
   "cell_type": "markdown",
   "metadata": {},
   "source": [
    "### 4. Diff_in_days\n",
    "<a id='diff_in_days'></a>"
   ]
  },
  {
   "cell_type": "code",
   "execution_count": 86,
   "metadata": {},
   "outputs": [],
   "source": [
    "from datetime import datetime\n",
    "def diff_in_days(df):\n",
    "    \"\"\"\n",
    "    The function takes a pandas DataFrame with two columns \"time_1\"\n",
    "    and \"time_2\" of UNIX timestamps given in seconds (you will need to specify\n",
    "    the unit if using pd.to_datetime).\n",
    "\n",
    "    The function should return a new dataFrame with one single column\n",
    "    \"difference_days\" consisting of the absolute difference in days between\n",
    "    time_1 and time_2.\n",
    "\n",
    "    \n",
    "    :param df: DataFrame with the two columns of timestamps\n",
    "    :return: new dataframe with differences in days between timestamps\n",
    "    \"\"\"\n",
    "    df_convert = [df[col_df].apply(datetime.fromtimestamp) for col_df in df.columns]\n",
    "\n",
    "    return pd.DataFrame(abs(df_convert[0] - df_convert[1]).dt.days, columns=[\"difference_days\"])"
   ]
  },
  {
   "cell_type": "code",
   "execution_count": 87,
   "metadata": {},
   "outputs": [
    {
     "data": {
      "text/html": [
       "<div>\n",
       "<style scoped>\n",
       "    .dataframe tbody tr th:only-of-type {\n",
       "        vertical-align: middle;\n",
       "    }\n",
       "\n",
       "    .dataframe tbody tr th {\n",
       "        vertical-align: top;\n",
       "    }\n",
       "\n",
       "    .dataframe thead th {\n",
       "        text-align: right;\n",
       "    }\n",
       "</style>\n",
       "<table border=\"1\" class=\"dataframe\">\n",
       "  <thead>\n",
       "    <tr style=\"text-align: right;\">\n",
       "      <th></th>\n",
       "      <th>time_1</th>\n",
       "      <th>time_2</th>\n",
       "    </tr>\n",
       "  </thead>\n",
       "  <tbody>\n",
       "    <tr>\n",
       "      <td>0</td>\n",
       "      <td>1456694829</td>\n",
       "      <td>1455845363</td>\n",
       "    </tr>\n",
       "    <tr>\n",
       "      <td>1</td>\n",
       "      <td>1455845363</td>\n",
       "      <td>1456694829</td>\n",
       "    </tr>\n",
       "  </tbody>\n",
       "</table>\n",
       "</div>"
      ],
      "text/plain": [
       "       time_1      time_2\n",
       "0  1456694829  1455845363\n",
       "1  1455845363  1456694829"
      ]
     },
     "execution_count": 87,
     "metadata": {},
     "output_type": "execute_result"
    }
   ],
   "source": [
    "## Test function\n",
    "\n",
    "days_df = pd.DataFrame({'time_1': [1456694829, 1455845363], 'time_2': [1455845363, 1456694829]})\n",
    "\n",
    "days_df.head()"
   ]
  },
  {
   "cell_type": "code",
   "execution_count": 88,
   "metadata": {},
   "outputs": [
    {
     "data": {
      "text/html": [
       "<div>\n",
       "<style scoped>\n",
       "    .dataframe tbody tr th:only-of-type {\n",
       "        vertical-align: middle;\n",
       "    }\n",
       "\n",
       "    .dataframe tbody tr th {\n",
       "        vertical-align: top;\n",
       "    }\n",
       "\n",
       "    .dataframe thead th {\n",
       "        text-align: right;\n",
       "    }\n",
       "</style>\n",
       "<table border=\"1\" class=\"dataframe\">\n",
       "  <thead>\n",
       "    <tr style=\"text-align: right;\">\n",
       "      <th></th>\n",
       "      <th>difference_days</th>\n",
       "    </tr>\n",
       "  </thead>\n",
       "  <tbody>\n",
       "    <tr>\n",
       "      <td>0</td>\n",
       "      <td>9</td>\n",
       "    </tr>\n",
       "    <tr>\n",
       "      <td>1</td>\n",
       "      <td>9</td>\n",
       "    </tr>\n",
       "  </tbody>\n",
       "</table>\n",
       "</div>"
      ],
      "text/plain": [
       "   difference_days\n",
       "0                9\n",
       "1                9"
      ]
     },
     "execution_count": 88,
     "metadata": {},
     "output_type": "execute_result"
    }
   ],
   "source": [
    "diff_in_days(days_df)"
   ]
  },
  {
   "cell_type": "markdown",
   "metadata": {},
   "source": [
    "### 5. Return_location\n",
    "<a id='return_location'></a>"
   ]
  },
  {
   "cell_type": "code",
   "execution_count": 89,
   "metadata": {},
   "outputs": [],
   "source": [
    "def return_location(df):\n",
    "    \"\"\"\n",
    "    The function takes a pandas DataFrame with one column, locations,\n",
    "    containing information about a specific location. The info is stored in a string\n",
    "    that can be loaded as a json object.\n",
    "    The function should return a DataFrame with one column, \"short_name\" that contains the\n",
    "    value associated with the key \"short_name\" for each row.\n",
    "\n",
    "    :param df: DataFrame with the locations column\n",
    "    :return: new DataFrame with the short_name column\n",
    "    \"\"\"\n",
    "\n",
    "    return pd.DataFrame(df[\"locations\"].apply(json.loads).apply(pd.Series)[\"short_name\"], columns=[\"short_name\"])"
   ]
  },
  {
   "cell_type": "code",
   "execution_count": 90,
   "metadata": {},
   "outputs": [
    {
     "data": {
      "text/html": [
       "<div>\n",
       "<style scoped>\n",
       "    .dataframe tbody tr th:only-of-type {\n",
       "        vertical-align: middle;\n",
       "    }\n",
       "\n",
       "    .dataframe tbody tr th {\n",
       "        vertical-align: top;\n",
       "    }\n",
       "\n",
       "    .dataframe thead th {\n",
       "        text-align: right;\n",
       "    }\n",
       "</style>\n",
       "<table border=\"1\" class=\"dataframe\">\n",
       "  <thead>\n",
       "    <tr style=\"text-align: right;\">\n",
       "      <th></th>\n",
       "      <th>locations</th>\n",
       "    </tr>\n",
       "  </thead>\n",
       "  <tbody>\n",
       "    <tr>\n",
       "      <td>0</td>\n",
       "      <td>{\"short_name\": \"Detroit, MI\", \"id\": 2391585}</td>\n",
       "    </tr>\n",
       "    <tr>\n",
       "      <td>1</td>\n",
       "      <td>{\"short_name\": \"Tracy, CA\", \"id\": 2507550}</td>\n",
       "    </tr>\n",
       "  </tbody>\n",
       "</table>\n",
       "</div>"
      ],
      "text/plain": [
       "                                      locations\n",
       "0  {\"short_name\": \"Detroit, MI\", \"id\": 2391585}\n",
       "1    {\"short_name\": \"Tracy, CA\", \"id\": 2507550}"
      ]
     },
     "execution_count": 90,
     "metadata": {},
     "output_type": "execute_result"
    }
   ],
   "source": [
    "## Test function\n",
    "\n",
    "locations_df = pd.DataFrame({'locations': ['{\"short_name\": \"Detroit, MI\", \"id\": 2391585}', \n",
    "                            '{\"short_name\": \"Tracy, CA\", \"id\": 2507550}']})\n",
    "locations_df.head()"
   ]
  },
  {
   "cell_type": "code",
   "execution_count": 91,
   "metadata": {},
   "outputs": [
    {
     "data": {
      "text/html": [
       "<div>\n",
       "<style scoped>\n",
       "    .dataframe tbody tr th:only-of-type {\n",
       "        vertical-align: middle;\n",
       "    }\n",
       "\n",
       "    .dataframe tbody tr th {\n",
       "        vertical-align: top;\n",
       "    }\n",
       "\n",
       "    .dataframe thead th {\n",
       "        text-align: right;\n",
       "    }\n",
       "</style>\n",
       "<table border=\"1\" class=\"dataframe\">\n",
       "  <thead>\n",
       "    <tr style=\"text-align: right;\">\n",
       "      <th></th>\n",
       "      <th>short_name</th>\n",
       "    </tr>\n",
       "  </thead>\n",
       "  <tbody>\n",
       "    <tr>\n",
       "      <td>0</td>\n",
       "      <td>Detroit, MI</td>\n",
       "    </tr>\n",
       "    <tr>\n",
       "      <td>1</td>\n",
       "      <td>Tracy, CA</td>\n",
       "    </tr>\n",
       "  </tbody>\n",
       "</table>\n",
       "</div>"
      ],
      "text/plain": [
       "    short_name\n",
       "0  Detroit, MI\n",
       "1    Tracy, CA"
      ]
     },
     "execution_count": 91,
     "metadata": {},
     "output_type": "execute_result"
    }
   ],
   "source": [
    "return_location(locations_df)"
   ]
  },
  {
   "cell_type": "markdown",
   "metadata": {},
   "source": [
    "### 6. Return_post_codes\n",
    "<a id='Return_post_codes'></a>"
   ]
  },
  {
   "cell_type": "code",
   "execution_count": 92,
   "metadata": {},
   "outputs": [],
   "source": [
    "def return_post_codes(df):\n",
    "    \"\"\"\n",
    "    The function takes a pandas DataFrame with one column, text, that\n",
    "    contains an arbitrary text. The function should extract all post-codes that\n",
    "    appear in that text and concatenate them together with \" | \". The result is\n",
    "    a new dataframe with a column \"postcodes\" that contains all concatenated\n",
    "    postcodes.\n",
    "\n",
    "  \n",
    "    :param df: a DataFrame with the text column\n",
    "    :return: new DataFrame with the postcodes column\n",
    "    \"\"\"\n",
    "    df = df.text.str.extractall(r\"([a-zA-Z]{1,2}\\d{1,2}[a-zA-Z]?\\s*\\d[a-zA-Z]{2})\").reset_index()\n",
    "    df_output = pd.DataFrame(df.groupby(\"level_0\")[0].apply(\" | \".join))\n",
    "    df_output.columns = [\"postcodes\"]\n",
    "    del df_output.index.name\n",
    "    return df_output\n"
   ]
  },
  {
   "cell_type": "code",
   "execution_count": 93,
   "metadata": {},
   "outputs": [
    {
     "data": {
      "text/html": [
       "<div>\n",
       "<style scoped>\n",
       "    .dataframe tbody tr th:only-of-type {\n",
       "        vertical-align: middle;\n",
       "    }\n",
       "\n",
       "    .dataframe tbody tr th {\n",
       "        vertical-align: top;\n",
       "    }\n",
       "\n",
       "    .dataframe thead th {\n",
       "        text-align: right;\n",
       "    }\n",
       "</style>\n",
       "<table border=\"1\" class=\"dataframe\">\n",
       "  <thead>\n",
       "    <tr style=\"text-align: right;\">\n",
       "      <th></th>\n",
       "      <th>text</th>\n",
       "    </tr>\n",
       "  </thead>\n",
       "  <tbody>\n",
       "    <tr>\n",
       "      <td>0</td>\n",
       "      <td>Great Doddington, Wellingborough NN29 7TA, UK\\...</td>\n",
       "    </tr>\n",
       "    <tr>\n",
       "      <td>1</td>\n",
       "      <td>This is some text, and here is a postcode CB4 9NE</td>\n",
       "    </tr>\n",
       "  </tbody>\n",
       "</table>\n",
       "</div>"
      ],
      "text/plain": [
       "                                                text\n",
       "0  Great Doddington, Wellingborough NN29 7TA, UK\\...\n",
       "1  This is some text, and here is a postcode CB4 9NE"
      ]
     },
     "execution_count": 93,
     "metadata": {},
     "output_type": "execute_result"
    }
   ],
   "source": [
    "## Test function\n",
    "\n",
    "postcodes_intext_df = pd.DataFrame({'text': ['Great Doddington, Wellingborough NN29 7TA, UK\\nTaylor, Leeds LS14 6JA, UK',\n",
    "                                   'This is some text, and here is a postcode CB4 9NE']})\n",
    "\n",
    "postcodes_intext_df.head()"
   ]
  },
  {
   "cell_type": "code",
   "execution_count": 94,
   "metadata": {},
   "outputs": [
    {
     "data": {
      "text/html": [
       "<div>\n",
       "<style scoped>\n",
       "    .dataframe tbody tr th:only-of-type {\n",
       "        vertical-align: middle;\n",
       "    }\n",
       "\n",
       "    .dataframe tbody tr th {\n",
       "        vertical-align: top;\n",
       "    }\n",
       "\n",
       "    .dataframe thead th {\n",
       "        text-align: right;\n",
       "    }\n",
       "</style>\n",
       "<table border=\"1\" class=\"dataframe\">\n",
       "  <thead>\n",
       "    <tr style=\"text-align: right;\">\n",
       "      <th></th>\n",
       "      <th>postcodes</th>\n",
       "    </tr>\n",
       "  </thead>\n",
       "  <tbody>\n",
       "    <tr>\n",
       "      <td>0</td>\n",
       "      <td>NN29 7TA | LS14 6JA</td>\n",
       "    </tr>\n",
       "    <tr>\n",
       "      <td>1</td>\n",
       "      <td>CB4 9NE</td>\n",
       "    </tr>\n",
       "  </tbody>\n",
       "</table>\n",
       "</div>"
      ],
      "text/plain": [
       "             postcodes\n",
       "0  NN29 7TA | LS14 6JA\n",
       "1              CB4 9NE"
      ]
     },
     "execution_count": 94,
     "metadata": {},
     "output_type": "execute_result"
    }
   ],
   "source": [
    "return_post_codes(postcodes_intext_df)"
   ]
  },
  {
   "cell_type": "code",
   "execution_count": null,
   "metadata": {},
   "outputs": [],
   "source": []
  }
 ],
 "metadata": {
  "kernelspec": {
   "display_name": "Python 3",
   "language": "python",
   "name": "python3"
  },
  "language_info": {
   "codemirror_mode": {
    "name": "ipython",
    "version": 3
   },
   "file_extension": ".py",
   "mimetype": "text/x-python",
   "name": "python",
   "nbconvert_exporter": "python",
   "pygments_lexer": "ipython3",
   "version": "3.7.4"
  }
 },
 "nbformat": 4,
 "nbformat_minor": 2
}
