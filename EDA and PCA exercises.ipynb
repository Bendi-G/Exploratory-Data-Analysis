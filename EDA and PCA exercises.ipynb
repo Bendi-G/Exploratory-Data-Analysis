{
 "cells": [
  {
   "cell_type": "code",
   "execution_count": 69,
   "metadata": {},
   "outputs": [],
   "source": [
    "import pandas as pd\n",
    "import numpy as np"
   ]
  },
  {
   "cell_type": "markdown",
   "metadata": {},
   "source": [
    "1. [Exploratory Data Analysis (EDA)](#Exploratory_Data_Analysis)\n",
    "2. [Principal Component Analysis (PCA)](#Principal_component_analysis)\n",
    "\n"
   ]
  },
  {
   "cell_type": "markdown",
   "metadata": {},
   "source": [
    "<a id='Exploratory_Data_Analysis'></a>\n",
    "#### Exploratory Data Analysis (EDA)"
   ]
  },
  {
   "cell_type": "code",
   "execution_count": 70,
   "metadata": {},
   "outputs": [],
   "source": [
    "def nan_processor(df, replacement_str):\n",
    "    \"\"\"\n",
    "    Take a DataFrame and return one where all occurrences\n",
    "    of the replacement string have been replaced by `np.nan`\n",
    "    and, subsequently, all rows containing np.nan\n",
    "    have been removed.\n",
    "\n",
    "    :param df: Input data frame (pandas.DataFrame)\n",
    "    :param replacement_str: string to find and replace by np.nan\n",
    "    :returns: DataFrame where the occurences of replacement_str have been\n",
    "        replaced by np.nan and subsequently all rows containing np.nan have\n",
    "        been removed\n",
    "    \"\"\"\n",
    "\n",
    "    return df.replace(replacement_str, np.nan).dropna()"
   ]
  },
  {
   "cell_type": "code",
   "execution_count": 71,
   "metadata": {},
   "outputs": [
    {
     "data": {
      "text/html": [
       "<div>\n",
       "<style scoped>\n",
       "    .dataframe tbody tr th:only-of-type {\n",
       "        vertical-align: middle;\n",
       "    }\n",
       "\n",
       "    .dataframe tbody tr th {\n",
       "        vertical-align: top;\n",
       "    }\n",
       "\n",
       "    .dataframe thead th {\n",
       "        text-align: right;\n",
       "    }\n",
       "</style>\n",
       "<table border=\"1\" class=\"dataframe\">\n",
       "  <thead>\n",
       "    <tr style=\"text-align: right;\">\n",
       "      <th></th>\n",
       "      <th>A</th>\n",
       "      <th>B</th>\n",
       "      <th>C</th>\n",
       "    </tr>\n",
       "  </thead>\n",
       "  <tbody>\n",
       "    <tr>\n",
       "      <td>0</td>\n",
       "      <td>0.5</td>\n",
       "      <td>0.3</td>\n",
       "      <td>blah</td>\n",
       "    </tr>\n",
       "    <tr>\n",
       "      <td>1</td>\n",
       "      <td>0.2</td>\n",
       "      <td>0.1</td>\n",
       "      <td>5</td>\n",
       "    </tr>\n",
       "    <tr>\n",
       "      <td>2</td>\n",
       "      <td>0.1</td>\n",
       "      <td>blah</td>\n",
       "      <td>6</td>\n",
       "    </tr>\n",
       "    <tr>\n",
       "      <td>3</td>\n",
       "      <td>0.7</td>\n",
       "      <td>0.2</td>\n",
       "      <td>1</td>\n",
       "    </tr>\n",
       "  </tbody>\n",
       "</table>\n",
       "</div>"
      ],
      "text/plain": [
       "     A     B     C\n",
       "0  0.5   0.3  blah\n",
       "1  0.2   0.1     5\n",
       "2  0.1  blah     6\n",
       "3  0.7   0.2     1"
      ]
     },
     "execution_count": 71,
     "metadata": {},
     "output_type": "execute_result"
    }
   ],
   "source": [
    "data_df = pd.DataFrame({'A': [0.5, 0.2, 0.1, 0.7], 'B': [0.3, 0.1, 'blah', 0.2], 'C': ['blah', 5, 6, 1]})\n",
    "data_df.head()"
   ]
  },
  {
   "cell_type": "code",
   "execution_count": 72,
   "metadata": {},
   "outputs": [
    {
     "data": {
      "text/html": [
       "<div>\n",
       "<style scoped>\n",
       "    .dataframe tbody tr th:only-of-type {\n",
       "        vertical-align: middle;\n",
       "    }\n",
       "\n",
       "    .dataframe tbody tr th {\n",
       "        vertical-align: top;\n",
       "    }\n",
       "\n",
       "    .dataframe thead th {\n",
       "        text-align: right;\n",
       "    }\n",
       "</style>\n",
       "<table border=\"1\" class=\"dataframe\">\n",
       "  <thead>\n",
       "    <tr style=\"text-align: right;\">\n",
       "      <th></th>\n",
       "      <th>A</th>\n",
       "      <th>B</th>\n",
       "      <th>C</th>\n",
       "    </tr>\n",
       "  </thead>\n",
       "  <tbody>\n",
       "    <tr>\n",
       "      <td>1</td>\n",
       "      <td>0.2</td>\n",
       "      <td>0.1</td>\n",
       "      <td>5.0</td>\n",
       "    </tr>\n",
       "    <tr>\n",
       "      <td>3</td>\n",
       "      <td>0.7</td>\n",
       "      <td>0.2</td>\n",
       "      <td>1.0</td>\n",
       "    </tr>\n",
       "  </tbody>\n",
       "</table>\n",
       "</div>"
      ],
      "text/plain": [
       "     A    B    C\n",
       "1  0.2  0.1  5.0\n",
       "3  0.7  0.2  1.0"
      ]
     },
     "execution_count": 72,
     "metadata": {},
     "output_type": "execute_result"
    }
   ],
   "source": [
    "nan_processor(data_df, 'blah')"
   ]
  },
  {
   "cell_type": "code",
   "execution_count": 73,
   "metadata": {},
   "outputs": [],
   "source": [
    "def feature_cleaner(df, low, high):\n",
    "    \"\"\"\n",
    "    Take a dataframe where columns are all numerical and non-constant.\n",
    "    For each feature, mark the values that are not between the given\n",
    "    percentiles (low-high) as np.nan. If a value is exactly on the high or low\n",
    "    percentile, it should be marked as nan too.\n",
    "\n",
    "    Then, remove all rows containing np.nan.\n",
    "    Finally, the columns are scaled to have zero mean and unit variance\n",
    "    (do this without sklearn).\n",
    "\n",
    "    :param df:      Input DataFrame (with numerical columns)\n",
    "    :param low:     Lowest percentile  (0.0<low<1.0)\n",
    "    :param high:    Highest percentile (low<high<1.0)\n",
    "    :returns:       Scaled DataFrame where elements that are outside of the\n",
    "                    desired percentile range have been removed\n",
    "    \"\"\"\n",
    "\n",
    "    def is_in_range(x):\n",
    "        if x >= high_q or x <= low_q:\n",
    "            return np.nan\n",
    "        else:\n",
    "            return x\n",
    "\n",
    "    for col_df in df.columns:\n",
    "        low_q = df[col_df].quantile(low)\n",
    "        high_q = df[col_df].quantile(high)\n",
    "\n",
    "        df[col_df] = df[col_df].apply(is_in_range)\n",
    "\n",
    "    df = df.dropna()\n",
    "\n",
    "    return (df - df.mean(axis=0)) / df.std(axis=0)"
   ]
  },
  {
   "cell_type": "code",
   "execution_count": 74,
   "metadata": {},
   "outputs": [
    {
     "data": {
      "text/html": [
       "<div>\n",
       "<style scoped>\n",
       "    .dataframe tbody tr th:only-of-type {\n",
       "        vertical-align: middle;\n",
       "    }\n",
       "\n",
       "    .dataframe tbody tr th {\n",
       "        vertical-align: top;\n",
       "    }\n",
       "\n",
       "    .dataframe thead th {\n",
       "        text-align: right;\n",
       "    }\n",
       "</style>\n",
       "<table border=\"1\" class=\"dataframe\">\n",
       "  <thead>\n",
       "    <tr style=\"text-align: right;\">\n",
       "      <th></th>\n",
       "      <th>0</th>\n",
       "      <th>1</th>\n",
       "      <th>2</th>\n",
       "    </tr>\n",
       "  </thead>\n",
       "  <tbody>\n",
       "    <tr>\n",
       "      <td>0</td>\n",
       "      <td>0.1</td>\n",
       "      <td>0.2</td>\n",
       "      <td>25.00</td>\n",
       "    </tr>\n",
       "    <tr>\n",
       "      <td>1</td>\n",
       "      <td>5.0</td>\n",
       "      <td>15.0</td>\n",
       "      <td>1.00</td>\n",
       "    </tr>\n",
       "    <tr>\n",
       "      <td>2</td>\n",
       "      <td>0.2</td>\n",
       "      <td>0.3</td>\n",
       "      <td>0.50</td>\n",
       "    </tr>\n",
       "    <tr>\n",
       "      <td>3</td>\n",
       "      <td>0.3</td>\n",
       "      <td>0.2</td>\n",
       "      <td>0.01</td>\n",
       "    </tr>\n",
       "    <tr>\n",
       "      <td>4</td>\n",
       "      <td>-0.1</td>\n",
       "      <td>-0.2</td>\n",
       "      <td>-0.90</td>\n",
       "    </tr>\n",
       "  </tbody>\n",
       "</table>\n",
       "</div>"
      ],
      "text/plain": [
       "     0     1      2\n",
       "0  0.1   0.2  25.00\n",
       "1  5.0  15.0   1.00\n",
       "2  0.2   0.3   0.50\n",
       "3  0.3   0.2   0.01\n",
       "4 -0.1  -0.2  -0.90"
      ]
     },
     "execution_count": 74,
     "metadata": {},
     "output_type": "execute_result"
    }
   ],
   "source": [
    "data2_df = pd.DataFrame({0: [0.1, 5, 0.2, 0.3, -0.1,-10], 1: [0.2,15,0.3,0.2,-0.2,0.4], 2: [25, 1, 0.5,0.01, -0.9,50]})\n",
    "data2_df.head()"
   ]
  },
  {
   "cell_type": "code",
   "execution_count": 75,
   "metadata": {},
   "outputs": [
    {
     "data": {
      "text/html": [
       "<div>\n",
       "<style scoped>\n",
       "    .dataframe tbody tr th:only-of-type {\n",
       "        vertical-align: middle;\n",
       "    }\n",
       "\n",
       "    .dataframe tbody tr th {\n",
       "        vertical-align: top;\n",
       "    }\n",
       "\n",
       "    .dataframe thead th {\n",
       "        text-align: right;\n",
       "    }\n",
       "</style>\n",
       "<table border=\"1\" class=\"dataframe\">\n",
       "  <thead>\n",
       "    <tr style=\"text-align: right;\">\n",
       "      <th></th>\n",
       "      <th>0</th>\n",
       "      <th>1</th>\n",
       "      <th>2</th>\n",
       "    </tr>\n",
       "  </thead>\n",
       "  <tbody>\n",
       "    <tr>\n",
       "      <td>0</td>\n",
       "      <td>-1.000000e+00</td>\n",
       "      <td>-0.577350</td>\n",
       "      <td>1.154531</td>\n",
       "    </tr>\n",
       "    <tr>\n",
       "      <td>2</td>\n",
       "      <td>-2.775558e-16</td>\n",
       "      <td>1.154701</td>\n",
       "      <td>-0.560119</td>\n",
       "    </tr>\n",
       "    <tr>\n",
       "      <td>3</td>\n",
       "      <td>1.000000e+00</td>\n",
       "      <td>-0.577350</td>\n",
       "      <td>-0.594412</td>\n",
       "    </tr>\n",
       "  </tbody>\n",
       "</table>\n",
       "</div>"
      ],
      "text/plain": [
       "              0         1         2\n",
       "0 -1.000000e+00 -0.577350  1.154531\n",
       "2 -2.775558e-16  1.154701 -0.560119\n",
       "3  1.000000e+00 -0.577350 -0.594412"
      ]
     },
     "execution_count": 75,
     "metadata": {},
     "output_type": "execute_result"
    }
   ],
   "source": [
    "feature_cleaner(data2_df, 0.01, 0.99)"
   ]
  },
  {
   "cell_type": "code",
   "execution_count": 76,
   "metadata": {},
   "outputs": [],
   "source": [
    "def get_feature(df):\n",
    "    \"\"\"\n",
    "    Take a dataframe where all columns are numerical (no NaNs) and not constant.\n",
    "    One of the column named \"CLASS\" is either 0 or 1.\n",
    "\n",
    "    Within each class, for each feature compute the ratio (R) of the\n",
    "    range over the variance (the range is the gap between the smallest\n",
    "    and largest value).\n",
    "\n",
    "    For each column, compute the ratio (say K) of the larger R to the smaller R.\n",
    "    Return the name of the column for which this last ratio K is largest.\n",
    "\n",
    "\n",
    "    :param df:  Input DataFrame (with numerical columns)\n",
    "    :returns:   Name of the column with largest K\n",
    "    \"\"\"\n",
    "\n",
    "    # Calculate the index of the dataframe which are 1\n",
    "    array_index_nonzero = df['CLASS'].to_numpy().nonzero()\n",
    "\n",
    "    # Calculate the index of the dataframe which are 0\n",
    "    # Unique values in array1 that are not in array2:\n",
    "    # np.setdiff1d(array1, array2)\n",
    "    array_index_zero = np.setdiff1d(df.index, array_index_nonzero)\n",
    "\n",
    "    # Remove the column CLASS to not divide by zero\n",
    "    df_without_class = df.drop('CLASS', axis=1)\n",
    "\n",
    "    r_0 = ((np.max(df_without_class.values[array_index_zero], axis=0) - np.min(\n",
    "        df_without_class.values[array_index_zero],\n",
    "        axis=0)) / np.var(df_without_class.values[array_index_zero], axis=0))\n",
    "\n",
    "    r_1 = ((np.max(df_without_class.values[array_index_nonzero], axis=0) - np.min(\n",
    "        df_without_class.values[array_index_nonzero],\n",
    "        axis=0)) / np.var(df_without_class.values[array_index_nonzero], axis=0))\n",
    "\n",
    "    r_max = np.max([r_0, r_1], axis=0)\n",
    "    r_min = np.min([r_0, r_1], axis=0)\n",
    "\n",
    "    return df.columns[np.argmax(r_max / r_min)]"
   ]
  },
  {
   "cell_type": "code",
   "execution_count": 77,
   "metadata": {},
   "outputs": [
    {
     "data": {
      "text/html": [
       "<div>\n",
       "<style scoped>\n",
       "    .dataframe tbody tr th:only-of-type {\n",
       "        vertical-align: middle;\n",
       "    }\n",
       "\n",
       "    .dataframe tbody tr th {\n",
       "        vertical-align: top;\n",
       "    }\n",
       "\n",
       "    .dataframe thead th {\n",
       "        text-align: right;\n",
       "    }\n",
       "</style>\n",
       "<table border=\"1\" class=\"dataframe\">\n",
       "  <thead>\n",
       "    <tr style=\"text-align: right;\">\n",
       "      <th></th>\n",
       "      <th>A</th>\n",
       "      <th>B</th>\n",
       "      <th>C</th>\n",
       "      <th>CLASS</th>\n",
       "    </tr>\n",
       "  </thead>\n",
       "  <tbody>\n",
       "    <tr>\n",
       "      <td>0</td>\n",
       "      <td>0.1</td>\n",
       "      <td>0.2</td>\n",
       "      <td>25.00</td>\n",
       "      <td>0</td>\n",
       "    </tr>\n",
       "    <tr>\n",
       "      <td>1</td>\n",
       "      <td>5.0</td>\n",
       "      <td>15.0</td>\n",
       "      <td>1.00</td>\n",
       "      <td>0</td>\n",
       "    </tr>\n",
       "    <tr>\n",
       "      <td>2</td>\n",
       "      <td>0.2</td>\n",
       "      <td>0.3</td>\n",
       "      <td>0.50</td>\n",
       "      <td>1</td>\n",
       "    </tr>\n",
       "    <tr>\n",
       "      <td>3</td>\n",
       "      <td>0.3</td>\n",
       "      <td>0.2</td>\n",
       "      <td>0.01</td>\n",
       "      <td>1</td>\n",
       "    </tr>\n",
       "    <tr>\n",
       "      <td>4</td>\n",
       "      <td>-0.1</td>\n",
       "      <td>-0.2</td>\n",
       "      <td>-0.90</td>\n",
       "      <td>0</td>\n",
       "    </tr>\n",
       "  </tbody>\n",
       "</table>\n",
       "</div>"
      ],
      "text/plain": [
       "     A     B      C  CLASS\n",
       "0  0.1   0.2  25.00      0\n",
       "1  5.0  15.0   1.00      0\n",
       "2  0.2   0.3   0.50      1\n",
       "3  0.3   0.2   0.01      1\n",
       "4 -0.1  -0.2  -0.90      0"
      ]
     },
     "execution_count": 77,
     "metadata": {},
     "output_type": "execute_result"
    }
   ],
   "source": [
    "data3_df = pd.DataFrame({'A': [0.1, 5, 0.2, 0.3, -0.1,-10], 'B': [0.2,15,0.3,0.2,-0.2,0.4], 'C': [25, 1, 0.5,0.01, -0.9,50],\n",
    "                        'CLASS':[0, 0, 1, 1, 0, 0]})\n",
    "data3_df.head()"
   ]
  },
  {
   "cell_type": "code",
   "execution_count": 78,
   "metadata": {},
   "outputs": [
    {
     "data": {
      "text/plain": [
       "'B'"
      ]
     },
     "execution_count": 78,
     "metadata": {},
     "output_type": "execute_result"
    }
   ],
   "source": [
    "get_feature(data3_df)"
   ]
  },
  {
   "cell_type": "code",
   "execution_count": 79,
   "metadata": {},
   "outputs": [],
   "source": [
    "def one_hot_encode(label_to_encode, labels):\n",
    "    \"\"\"\n",
    "    The function takes in a label to encode and a list of possible\n",
    "    labels. It should return the label one-hot-encoded as a list of elements\n",
    "    containing 0s and a unique 1 at the index corresponding to the matching\n",
    "    label. \n",
    "\n",
    "    :param label_to_encode: the label to encode\n",
    "    :param labels: a list of all possible labels\n",
    "    :return: a list of 0s and one 1\n",
    "    \"\"\"\n",
    "\n",
    "    return [1 if label_to_encode == value else 0 for value in labels]"
   ]
  },
  {
   "cell_type": "code",
   "execution_count": 80,
   "metadata": {},
   "outputs": [
    {
     "name": "stdout",
     "output_type": "stream",
     "text": [
      "[0, 0, 1, 0]\n",
      "[0, 1, 0, 0, 0]\n",
      "[0, 0, 0, 0, 0]\n"
     ]
    }
   ],
   "source": [
    "## Test the function\n",
    "\n",
    "print(one_hot_encode(\"pink\", [\"blue\", \"red\", \"pink\", \"yellow\"]))\n",
    "print(one_hot_encode(\"b\", [\"a\", \"b\", \"c\", \"d\", \"e\"]))\n",
    "print(one_hot_encode(\"f\", [\"a\", \"b\", \"c\", \"d\", \"e\"]))"
   ]
  },
  {
   "cell_type": "markdown",
   "metadata": {},
   "source": [
    "<a id='Principal_component_analysis'></a>\n",
    "#### Principal Component Analysis (PCA)\n",
    "\n"
   ]
  },
  {
   "cell_type": "code",
   "execution_count": 81,
   "metadata": {},
   "outputs": [],
   "source": [
    "from sklearn.decomposition import PCA\n",
    "from sklearn.preprocessing import StandardScaler"
   ]
  },
  {
   "cell_type": "code",
   "execution_count": 82,
   "metadata": {},
   "outputs": [],
   "source": [
    "def get_cumulated_variance(df, scale):\n",
    "    \"\"\"Apply PCA on a DataFrame and return a new DataFrame containing\n",
    "    the cumulated explained variance from with only the first component,\n",
    "    up to using all components together. Values should be expressed as\n",
    "    a percentage of the total variance explained.\n",
    "\n",
    "    The DataFrame will have one row and each column should correspond to a\n",
    "    principal component.\n",
    "\n",
    "\n",
    "    If scale is True, it standardises the data first\n",
    "\n",
    "    :param df: pandas DataFrame\n",
    "    :param scale: boolean, whether to scale or not\n",
    "    :return: a new DataFrame with cumulated variance in percent\n",
    "    \"\"\"\n",
    "\n",
    "    if scale:\n",
    "        df = StandardScaler().fit_transform(df)\n",
    "\n",
    "    pca = PCA()\n",
    "    pca.fit(df)\n",
    "\n",
    "    cum_sum_pc = (np.cumsum(pca.explained_variance_ratio_) * 100).reshape(1, df.shape[1])\n",
    "    columns_pc = [\"PC\" + str(i) for i in range(1, df.shape[1] + 1)]\n",
    "\n",
    "    return pd.DataFrame(cum_sum_pc, columns=columns_pc)"
   ]
  },
  {
   "cell_type": "code",
   "execution_count": 83,
   "metadata": {},
   "outputs": [
    {
     "data": {
      "text/html": [
       "<div>\n",
       "<style scoped>\n",
       "    .dataframe tbody tr th:only-of-type {\n",
       "        vertical-align: middle;\n",
       "    }\n",
       "\n",
       "    .dataframe tbody tr th {\n",
       "        vertical-align: top;\n",
       "    }\n",
       "\n",
       "    .dataframe thead th {\n",
       "        text-align: right;\n",
       "    }\n",
       "</style>\n",
       "<table border=\"1\" class=\"dataframe\">\n",
       "  <thead>\n",
       "    <tr style=\"text-align: right;\">\n",
       "      <th></th>\n",
       "      <th>PC1</th>\n",
       "      <th>PC2</th>\n",
       "    </tr>\n",
       "  </thead>\n",
       "  <tbody>\n",
       "    <tr>\n",
       "      <td>0</td>\n",
       "      <td>64.818777</td>\n",
       "      <td>100.0</td>\n",
       "    </tr>\n",
       "  </tbody>\n",
       "</table>\n",
       "</div>"
      ],
      "text/plain": [
       "         PC1    PC2\n",
       "0  64.818777  100.0"
      ]
     },
     "execution_count": 83,
     "metadata": {},
     "output_type": "execute_result"
    }
   ],
   "source": [
    "df = pd.DataFrame({'A': [1.3, 27, 3.3, 9.3], 'B': [1.2, 2.1, 6.8, 3.2]})\n",
    "\n",
    "get_cumulated_variance(df, True)"
   ]
  },
  {
   "cell_type": "code",
   "execution_count": 84,
   "metadata": {},
   "outputs": [],
   "source": [
    "def get_coordinates_of_first_two(df, scale):\n",
    "    \"\"\"Apply PCA on a given DataFrame df and return a new DataFrame\n",
    "    containing the coordinates of the first two principal components\n",
    "    expressed in the original basis (with the original columns).\n",
    "\n",
    "    If scale is True, it standardises the data first\n",
    "\n",
    "    :param df: pandas DataFrame\n",
    "    :param scale: boolean, whether to scale or not\n",
    "    :return: a new DataFrame with coordinates of PC1 and PC2\n",
    "    \"\"\"\n",
    "\n",
    "    if scale:\n",
    "        df.loc[df.index, df.columns] = StandardScaler().fit_transform(df)\n",
    "\n",
    "    pca = PCA(n_components=2)\n",
    "    pca.fit(df)\n",
    "\n",
    "    index_pc = [\"PC\" + str(i) for i in range(1, 3)]\n",
    "    return pd.DataFrame(pca.components_, columns=df.columns, index=index_pc)\n"
   ]
  },
  {
   "cell_type": "code",
   "execution_count": 85,
   "metadata": {},
   "outputs": [
    {
     "data": {
      "text/html": [
       "<div>\n",
       "<style scoped>\n",
       "    .dataframe tbody tr th:only-of-type {\n",
       "        vertical-align: middle;\n",
       "    }\n",
       "\n",
       "    .dataframe tbody tr th {\n",
       "        vertical-align: top;\n",
       "    }\n",
       "\n",
       "    .dataframe thead th {\n",
       "        text-align: right;\n",
       "    }\n",
       "</style>\n",
       "<table border=\"1\" class=\"dataframe\">\n",
       "  <thead>\n",
       "    <tr style=\"text-align: right;\">\n",
       "      <th></th>\n",
       "      <th>A</th>\n",
       "      <th>B</th>\n",
       "    </tr>\n",
       "  </thead>\n",
       "  <tbody>\n",
       "    <tr>\n",
       "      <td>PC1</td>\n",
       "      <td>-0.707107</td>\n",
       "      <td>0.707107</td>\n",
       "    </tr>\n",
       "    <tr>\n",
       "      <td>PC2</td>\n",
       "      <td>-0.707107</td>\n",
       "      <td>-0.707107</td>\n",
       "    </tr>\n",
       "  </tbody>\n",
       "</table>\n",
       "</div>"
      ],
      "text/plain": [
       "            A         B\n",
       "PC1 -0.707107  0.707107\n",
       "PC2 -0.707107 -0.707107"
      ]
     },
     "execution_count": 85,
     "metadata": {},
     "output_type": "execute_result"
    }
   ],
   "source": [
    "df = pd.DataFrame({'A': [1.3, 27, 3.3, 9.3], 'B': [1.2, 2.1, 6.8, 3.2]})\n",
    "\n",
    "get_coordinates_of_first_two(df, True)"
   ]
  },
  {
   "cell_type": "code",
   "execution_count": 86,
   "metadata": {},
   "outputs": [],
   "source": [
    "def get_most_important_two(df, scale):\n",
    "    \"\"\"Apply PCA on a given DataFrame df and use it to determine the\n",
    "    'most important' features in your dataset. To do so we will focus\n",
    "    on the principal component that exhibits the highest explained\n",
    "    variance (that's PC1).\n",
    "\n",
    "    PC1 can be expressed as a vector with weight on each of the original\n",
    "    columns. Here we want to return the names of the two features that\n",
    "    have the highest weights in PC1 (in absolute value).\n",
    "\n",
    "\n",
    "    If scale is True, it standardises the data first\n",
    "\n",
    "\n",
    "    :param df: pandas DataFrame\n",
    "    :param scale: boolean, whether to scale or not\n",
    "    :return: names of the two most important features as a tuple\n",
    "    \"\"\"\n",
    "\n",
    "    if scale:\n",
    "        df.loc[df.index, df.columns] = StandardScaler().fit_transform(df)\n",
    "\n",
    "    pca = PCA(n_components=1)\n",
    "    pca.fit(df)\n",
    "    pca_components = pca.components_ ** 2\n",
    "    max_1_pc_1 = np.argmax(pca_components)\n",
    "    max_2_pc_1 = np.argwhere(pca_components == np.max(np.delete(pca_components, np.argmax(pca_components))))[0][1]\n",
    "\n",
    "    return (df.columns[max_1_pc_1], df.columns[max_2_pc_1])"
   ]
  },
  {
   "cell_type": "code",
   "execution_count": 87,
   "metadata": {},
   "outputs": [
    {
     "data": {
      "text/plain": [
       "('C', 'B')"
      ]
     },
     "execution_count": 87,
     "metadata": {},
     "output_type": "execute_result"
    }
   ],
   "source": [
    "df_2 = pd.DataFrame({'A': [1.3, 27, 3.3, 9.3], 'B': [1.2, 2.1, 6.8, 3.2], 'C':[0.1, 1.2, 23, 4.5]})\n",
    "get_most_important_two(df_2, True)"
   ]
  },
  {
   "cell_type": "code",
   "execution_count": 88,
   "metadata": {},
   "outputs": [],
   "source": [
    "def distance_in_n_dimensions(df, point_a, point_b, n, scale):\n",
    "    \"\"\"The function applies PCA on a given DataFrame df in order to find\n",
    "    a new subspace of dimension n.\n",
    "\n",
    "    Transform the two points point_a and point_b to be represented into that\n",
    "    n dimensions space, compute the Euclidean distance between the points in\n",
    "    that space and return it.\n",
    "\n",
    "    \n",
    "    If scale is True, it standardises the data first\n",
    "\n",
    "\n",
    "    :param df: pandas DataFrame\n",
    "    :param point_a: a numpy vector expressed in the same basis as df\n",
    "    :param point_b: a numpy vector expressed in the same basis as df\n",
    "    :param n: number of dimensions of the new space\n",
    "    :param scale: whether to scale data or not\n",
    "    :return: distance between points in the subspace\n",
    "    \"\"\"\n",
    "    new_coord = np.stack([point_a, point_b], axis=0)\n",
    "\n",
    "    if scale:\n",
    "        std_sclr = StandardScaler().fit(df)\n",
    "        df.loc[df.index, df.columns] = std_sclr.transform(df)\n",
    "        new_coord = std_sclr.transform(new_coord)\n",
    "\n",
    "    pca = PCA(n_components=n)\n",
    "    pca.fit(df)\n",
    "    point_trans = pca.transform(new_coord)\n",
    "\n",
    "    return np.linalg.norm(point_trans[0, :] - point_trans[1, :])\n"
   ]
  },
  {
   "cell_type": "code",
   "execution_count": 89,
   "metadata": {},
   "outputs": [
    {
     "data": {
      "text/plain": [
       "1.6509894302597583"
      ]
     },
     "execution_count": 89,
     "metadata": {},
     "output_type": "execute_result"
    }
   ],
   "source": [
    "df_2 = pd.DataFrame({'A': [1.3, 2.0, 3.3, 5.1], 'B': [1.2, 2.1, 6.8, 3.2], 'C':[0.1, 1.2, 23.4, 4.5]})\n",
    "point_a = np.array([1, 2, 3])\n",
    "point_b = np.array([2, 3, 4])\n",
    "n = 2\n",
    "scale = False\n",
    "distance_in_n_dimensions(df_2, point_a, point_b, n, scale)\n"
   ]
  },
  {
   "cell_type": "code",
   "execution_count": 90,
   "metadata": {},
   "outputs": [],
   "source": [
    "def find_outliers_pca(df, n, scale):\n",
    "    \"\"\"Apply PCA on a given DataFrame df and transform all the data to be expressed\n",
    "    on the first principal component.\n",
    "\n",
    "    With all those points in a one-dimension space, find outliers by looking for points\n",
    "    that lie at more than n standard deviations from the mean.\n",
    "\n",
    "    It returns a new dataframe containing all the rows of the original dataset\n",
    "    that have been found to be outliers when projected.\n",
    "\n",
    "   \n",
    "    If scale is True, it standardises the data first\n",
    "\n",
    "    :param df: pandas DataFrame\n",
    "    :param n: number of standard deviations from the mean to be considered outlier\n",
    "    :param scale: whether to scale data or not\n",
    "    :return: pandas DataFrame containing outliers only\n",
    "    \"\"\"\n",
    "    df_copy = df.copy()\n",
    "    if scale:\n",
    "        df.loc[df.index, df.columns] = StandardScaler().fit_transform(df)\n",
    "\n",
    "    df_projected = PCA(n_components=1).fit_transform(df)\n",
    "\n",
    "    std_df = np.std(df_projected)\n",
    "\n",
    "    index_outliers = [i for i in range(len(df_projected)) if abs(df_projected[i]) > n * std_df]\n",
    "\n",
    "    if index_outliers:\n",
    "        return pd.DataFrame(df_copy.values[index_outliers], columns=df_copy.columns,\n",
    "                            index=df_copy.index[index_outliers])\n",
    "    else:\n",
    "        return pd.DataFrame([], columns=df.columns)"
   ]
  },
  {
   "cell_type": "code",
   "execution_count": 91,
   "metadata": {},
   "outputs": [
    {
     "data": {
      "text/html": [
       "<div>\n",
       "<style scoped>\n",
       "    .dataframe tbody tr th:only-of-type {\n",
       "        vertical-align: middle;\n",
       "    }\n",
       "\n",
       "    .dataframe tbody tr th {\n",
       "        vertical-align: top;\n",
       "    }\n",
       "\n",
       "    .dataframe thead th {\n",
       "        text-align: right;\n",
       "    }\n",
       "</style>\n",
       "<table border=\"1\" class=\"dataframe\">\n",
       "  <thead>\n",
       "    <tr style=\"text-align: right;\">\n",
       "      <th></th>\n",
       "      <th>A</th>\n",
       "      <th>B</th>\n",
       "      <th>C</th>\n",
       "    </tr>\n",
       "  </thead>\n",
       "  <tbody>\n",
       "    <tr>\n",
       "      <td>2</td>\n",
       "      <td>3.3</td>\n",
       "      <td>6.8</td>\n",
       "      <td>23.4</td>\n",
       "    </tr>\n",
       "  </tbody>\n",
       "</table>\n",
       "</div>"
      ],
      "text/plain": [
       "     A    B     C\n",
       "2  3.3  6.8  23.4"
      ]
     },
     "execution_count": 91,
     "metadata": {},
     "output_type": "execute_result"
    }
   ],
   "source": [
    "df_2 = pd.DataFrame({'A': [1.3, 2.0, 3.3, 5.1], 'B': [1.2, 2.1, 6.8, 3.2], 'C':[0.1, 1.2, 23.4, 4.5]})\n",
    "find_outliers_pca(df_2, 1, False)"
   ]
  },
  {
   "cell_type": "code",
   "execution_count": null,
   "metadata": {},
   "outputs": [],
   "source": []
  }
 ],
 "metadata": {
  "kernelspec": {
   "display_name": "Python 3",
   "language": "python",
   "name": "python3"
  },
  "language_info": {
   "codemirror_mode": {
    "name": "ipython",
    "version": 3
   },
   "file_extension": ".py",
   "mimetype": "text/x-python",
   "name": "python",
   "nbconvert_exporter": "python",
   "pygments_lexer": "ipython3",
   "version": "3.7.4"
  }
 },
 "nbformat": 4,
 "nbformat_minor": 2
}
