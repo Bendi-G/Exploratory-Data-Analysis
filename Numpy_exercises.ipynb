{
 "cells": [
  {
   "cell_type": "markdown",
   "metadata": {},
   "source": [
    "# Some useful Numpy functions"
   ]
  },
  {
   "cell_type": "code",
   "execution_count": 18,
   "metadata": {},
   "outputs": [],
   "source": [
    "import numpy as np"
   ]
  },
  {
   "cell_type": "markdown",
   "metadata": {},
   "source": [
    "1. [Zero_insert](#section_zero_insert): The function takes in a vector and returns a new vector where every element is separated by 4 consecutive zeros.\n",
    "2. [Return_closest](#section_return_closest): The function takes in a vector and returns the value contained in the vector that is closest to a given value.\n",
    "3. [Cauchy matrix](#Cauchy_matrix): The function takes in two vectors and returns the associated Cauchy matrix.\n",
    "4. [Most similar](#most_similar): The function takes in a vector and a list of vectors and finds, in the list, the index of the vector that is most similar.\n",
    "5. [Gradient descent](#gradient_descent): The function does the gradient descent with a fixed learning rate and stops when the update has magnitude under a given tolerance.\n",
    "6. [All unique chars](#unique_char): The function determines if a string is only made of unique characters.\n",
    "7. [Find element in a matrix](#find_element): The function takes a square matrix of integers and returns a set of all valid positions (i,j) of a value.\n",
    "8. [Filter matrix](#filter_matrix): The function takes a matrix of integers and sets the rows and columns of every zero-entry to zero.\n",
    "9. [Largest sum](#largest_sum): The function takes in a list of integers, finds the sublist of contiguous values with at least one element that has the largest sum and returns the sum.\n",
    "10. [Pair product](#pairprod): The function takes in a list of positive integers and returns all unique pairs of elements whose product is equal to a given value. \n",
    "11. [Moving average](#moving_averages): Given a numpy vector x of n > k, compute the moving averages of length k.\n",
    "12. [Block matrix](#block_matrix): Given two numpy matrices A and B of arbitrary dimensions, return a new numpy matrix by blocks."
   ]
  },
  {
   "cell_type": "markdown",
   "metadata": {},
   "source": [
    "<a id='section_zero_insert'></a>\n",
    "#### Zero insert function"
   ]
  },
  {
   "cell_type": "code",
   "execution_count": 19,
   "metadata": {},
   "outputs": [],
   "source": [
    "def zero_insert(x):\n",
    "    \"\"\"\n",
    "    The function takes in a vector and returns a new vector where every element is separated by 4 consecutive zeros.\n",
    "    Example:\n",
    "    [4, 2, 1] --> [4, 0, 0, 0, 0, 2, 0, 0, 0, 0, 1]\n",
    "    :param x: input vector\n",
    "    :type x: numpy.array\n",
    "    :return: input vector with elements separated by 4 zeros\n",
    "    :rtype: numpy.array\n",
    "    \"\"\"\n",
    "\n",
    "    x_zeros = np.array([])\n",
    "    ## Check if x is not empty\n",
    "    if x.any():\n",
    "        x_zeros = np.zeros((len(x) - 1)*4 + len(x))\n",
    "        j = 0\n",
    "\n",
    "        for i in range(0, len(x_zeros), 5):\n",
    "            x_zeros[i] = x[j]\n",
    "            j += 1\n",
    "    return x_zeros\n"
   ]
  },
  {
   "cell_type": "code",
   "execution_count": 20,
   "metadata": {},
   "outputs": [
    {
     "name": "stdout",
     "output_type": "stream",
     "text": [
      "x1=[4, 2, 1] --> [4. 0. 0. 0. 0. 2. 0. 0. 0. 0. 1.]\n",
      "x2=[-1, 2, 6, 4, 1] --> [-1.  0.  0.  0.  0.  2.  0.  0.  0.  0.  6.  0.  0.  0.  0.  4.  0.  0.\n",
      "  0.  0.  1.]\n",
      "x3=[] --> []\n"
     ]
    }
   ],
   "source": [
    "## Test the function\n",
    "\n",
    "x1 = np.array([4, 2, 1])\n",
    "x2 = np.array([-1, 2, 6, 4, 1])\n",
    "x3 = np.array([])\n",
    "\n",
    "print(\"x1=[4, 2, 1] --> {}\".format(zero_insert(x1)))\n",
    "print(\"x2=[-1, 2, 6, 4, 1] --> {}\".format(zero_insert(x2)))\n",
    "print(\"x3=[] --> {}\".format(zero_insert(x3)))"
   ]
  },
  {
   "cell_type": "markdown",
   "metadata": {},
   "source": [
    "<a id='section_return_closest'></a>\n",
    "#### Return closest function"
   ]
  },
  {
   "cell_type": "code",
   "execution_count": 21,
   "metadata": {},
   "outputs": [],
   "source": [
    "def return_closest(x, val):\n",
    "    \"\"\"\n",
    "    The function takes in a vector and returns the value contained in the vector that is closest to a given value.\n",
    "    If two values are equidistant from val, return the one that comes first in the vector.\n",
    "    Example:\n",
    "    ([3, 4, 5], 2) --> 3\n",
    "\n",
    "    :param x: input vector\n",
    "    :type x: numpy.array of int/float\n",
    "    :param val: input value\n",
    "    :type val: int | float\n",
    "    :return: value from x closest to val\n",
    "    :rtype: int | float\n",
    "    \"\"\"\n",
    "\n",
    "    dif_x = np.abs(x - val)\n",
    "\n",
    "    return x[np.argmin(dif_x)]"
   ]
  },
  {
   "cell_type": "code",
   "execution_count": 22,
   "metadata": {},
   "outputs": [
    {
     "name": "stdout",
     "output_type": "stream",
     "text": [
      "x1=[4, 8, 0], val = 2 --> 4\n",
      "x2=[3, 4, 5], val = 2 --> 3\n",
      "x3=[-1, 7, 10], val = 2 --> -1\n"
     ]
    }
   ],
   "source": [
    "# Test the function\n",
    "\n",
    "x1 = np.array([4, 8, 0])\n",
    "x2 = np.array([3, 4, 5])\n",
    "x3 = np.array([-1, 7, 10])\n",
    "\n",
    "val = 2\n",
    "\n",
    "print(\"x1=[4, 8, 0], val = 2 --> {}\".format(return_closest(x1, val)))\n",
    "print(\"x2=[3, 4, 5], val = 2 --> {}\".format(return_closest(x2, val)))\n",
    "print(\"x3=[-1, 7, 10], val = 2 --> {}\".format(return_closest(x3, val)))\n"
   ]
  },
  {
   "cell_type": "markdown",
   "metadata": {},
   "source": [
    "<a id='Cauchy_matrix'></a>\n",
    "#### Cauchy matrix function"
   ]
  },
  {
   "cell_type": "code",
   "execution_count": 23,
   "metadata": {},
   "outputs": [],
   "source": [
    "def cauchy(x, y):\n",
    "    \"\"\"\n",
    "    The function takes in two vectors and returns the associated Cauchy\n",
    "    matrix with entries a_ij = 1/(x_i-y_j).\n",
    "\n",
    "    Example:\n",
    "    ([1, 2], [3, 4]) --> [[-1/2, -1/3], [-1, -1/2]]\n",
    "\n",
    "    Note: the function should raise an error of type ValueError if there is a\n",
    "    pair (i,j) such that x_i=y_j\n",
    "\n",
    "    :param x: input vector\n",
    "    :type x: numpy.array of int/float\n",
    "    :param y: input vector\n",
    "    :type y: numpy.array of int/float\n",
    "    :return: Cauchy matrix with entries 1/(x_i-y_j)\n",
    "    :rtype: numpy.array of float\n",
    "    :raise ValueError:\n",
    "    \"\"\"\n",
    "\n",
    "    x = np.array([x]).T\n",
    "\n",
    "    if 0 in x - y:\n",
    "        raise ValueError(\"\")\n",
    "        \n",
    "    return 1 / (x - y)"
   ]
  },
  {
   "cell_type": "code",
   "execution_count": 24,
   "metadata": {},
   "outputs": [
    {
     "name": "stdout",
     "output_type": "stream",
     "text": [
      "x1=[1, 2], y1=[3, 4] --> [[-0.5        -0.33333333]\n",
      " [-1.         -0.5       ]]\n"
     ]
    }
   ],
   "source": [
    "# Test the function\n",
    "\n",
    "x1 = np.array([1, 2])\n",
    "y1 = np.array([3, 4])\n",
    "\n",
    "x2 = np.array([1, 4])\n",
    "y2 = np.array([4, 2])\n",
    "\n",
    "print(\"x1=[1, 2], y1=[3, 4] --> {}\".format(cauchy(x1, y1)))\n"
   ]
  },
  {
   "cell_type": "markdown",
   "metadata": {},
   "source": [
    "<a id='most_similar'></a>\n",
    "\n",
    "#### Most similar vectors"
   ]
  },
  {
   "cell_type": "code",
   "execution_count": 25,
   "metadata": {},
   "outputs": [],
   "source": [
    "def most_similar(x, v_list):\n",
    "    \"\"\"\n",
    "    The function takes in a vector x and a list of vectors and finds,\n",
    "    in the list, the index of the vector that is most similar to x using\n",
    "    cosine similarity.\n",
    "\n",
    "    Example:\n",
    "    ([1, 1], [[1, 0.9], [-1, 1]]) --> 0 (corresponding to [1,0.9])\n",
    "\n",
    "    :param x: input vector\n",
    "    :type x: numpy.array of int/float\n",
    "    :param v_list: list of vectors\n",
    "    :type v_list: list of numpy.array\n",
    "    :return: index of element in list that is closest to x in cosine-sim\n",
    "    :rtype: int\n",
    "    \"\"\"\n",
    "\n",
    "# Initialize variables\n",
    "    cos_theta_max = -1\n",
    "    index = 0\n",
    "    index_max = 0\n",
    "\n",
    "# Find the biggest cosine\n",
    "\n",
    "    for v in v_list:\n",
    "        cos_theta = (x@v) / np.sqrt(x@x * v@v)\n",
    "\n",
    "        if cos_theta > cos_theta_max:\n",
    "            cos_theta_max = cos_theta\n",
    "            index_max = index\n",
    "\n",
    "        index += 1\n",
    "\n",
    "    return index_max"
   ]
  },
  {
   "cell_type": "code",
   "execution_count": 26,
   "metadata": {},
   "outputs": [
    {
     "name": "stdout",
     "output_type": "stream",
     "text": [
      "x = [1, 1], v_list = [[1, 0.9], [-1, 1]]  --> 0\n"
     ]
    }
   ],
   "source": [
    "# Test the function\n",
    "\n",
    "x = np.array([1, 1])\n",
    "v_list = np.array([[1, 0.9], [-1, 1]])\n",
    "\n",
    "print(\"x = [1, 1], v_list = [[1, 0.9], [-1, 1]]  --> {}\".format(most_similar(x, v_list)))\n"
   ]
  },
  {
   "cell_type": "markdown",
   "metadata": {},
   "source": [
    "<a id='gradient_descent'></a>\n",
    "\n",
    "### Gradient descent"
   ]
  },
  {
   "cell_type": "code",
   "execution_count": 27,
   "metadata": {},
   "outputs": [],
   "source": [
    "\n",
    "def gradient_descent(x_0, learning_rate, tol):\n",
    "    \"\"\"\n",
    "    The function does gradient descent with a fixed learning_rate\n",
    "    on function f with gradient g and stops when the update has magnitude\n",
    "    under a given tolerance level (i.e. when |xk-x(k-1)| < tol).\n",
    "    Return a tuple with the position, the value of f at that position and the\n",
    "    magnitude of the last update.\n",
    "    h(x) = (x-1)^2 + exp(-x^2/2)\n",
    "    f(x) = log(h(x))\n",
    "    g(x) = (2(x-1) - x exp(-x^2/2)) / h(x)\n",
    "\n",
    "    Example:\n",
    "    (1.0, 0.1, 1e-3) --> approximately (1.2807, -0.6555, 0.0008)\n",
    "\n",
    "    :param x_0: initial point\n",
    "    :type x_0: float\n",
    "    :param learning_rate: fixed learning_rate\n",
    "    :type learning_rate: float\n",
    "    :param tol: tolerance for the magnitude of the update\n",
    "    :type tol: float\n",
    "    :return: the position, the value at that position and the latest update\n",
    "    :rtype: tuple of three float\n",
    "    \"\"\"\n",
    "\n",
    "    x = x_0\n",
    "\n",
    "    while -learning_rate*g(x) > tol:\n",
    "        x -= learning_rate*g(x)\n",
    "\n",
    "    return (x - learning_rate*g(x), f(x - learning_rate*g(x)), -learning_rate*g(x))\n",
    "\n",
    "\n",
    "def h(x):\n",
    "    return (x - 1)**2 + np.exp((-x**2)/2)\n",
    "\n",
    "\n",
    "def f(x):\n",
    "    return np.log(h(x))\n",
    "\n",
    "\n",
    "def g(x):\n",
    "    return (2*(x-1) - x*np.exp((-x**2)/2)) / h(x)\n"
   ]
  },
  {
   "cell_type": "code",
   "execution_count": 28,
   "metadata": {},
   "outputs": [
    {
     "data": {
      "text/plain": [
       "(1.2807049030422724, -0.6555012751335543, 0.00089179359769791)"
      ]
     },
     "execution_count": 28,
     "metadata": {},
     "output_type": "execute_result"
    }
   ],
   "source": [
    "# Test the function\n",
    "gradient_descent(1.0, 0.1, 1e-3)"
   ]
  },
  {
   "cell_type": "code",
   "execution_count": 44,
   "metadata": {},
   "outputs": [
    {
     "data": {
      "text/plain": [
       "[<matplotlib.lines.Line2D at 0x139aa866588>]"
      ]
     },
     "execution_count": 44,
     "metadata": {},
     "output_type": "execute_result"
    },
    {
     "data": {
      "image/png": "[encoded data removed]",
      "text/plain": [
       "<Figure size 576x432 with 1 Axes>"
      ]
     },
     "metadata": {
      "needs_background": "light"
     },
     "output_type": "display_data"
    }
   ],
   "source": [
    "from matplotlib import pyplot as plt\n",
    "\n",
    "x = np.linspace(-4, 4, 50)\n",
    "\n",
    "plt.figure(figsize=(8, 6))\n",
    "plt.plot(x, f(x), color = \"blue\")\n",
    "plt.plot(gradient_descent(1.0, 0.1, 1e-3)[0], gradient_descent(1.0, 0.1, 1e-3)[1], marker='o', markersize=12, color = 'red')"
   ]
  },
  {
   "cell_type": "markdown",
   "metadata": {},
   "source": [
    "<a id='unique_char'></a>\n",
    "\n",
    "#### All unique characters function\n",
    "\n"
   ]
  },
  {
   "cell_type": "code",
   "execution_count": 30,
   "metadata": {},
   "outputs": [],
   "source": [
    "def all_unique_chars(string):\n",
    "    \"\"\"\n",
    "    The function determines if a string is only made of unique\n",
    "    characters and returns True if that's the case, False otherwise.\n",
    "    Upper case and lower case should be considered as the same character.\n",
    "\n",
    "    Example:\n",
    "    \"qwr#!\" --> True, \"q Qdf\" --> False\n",
    "\n",
    "    :param string: input string\n",
    "    :type string:  string\n",
    "    :return:      true or false if string is made of unique characters\n",
    "    :rtype:        bool\n",
    "    \"\"\"\n",
    "\n",
    "    return len(set(string.lower())) == len(string)"
   ]
  },
  {
   "cell_type": "code",
   "execution_count": 31,
   "metadata": {},
   "outputs": [
    {
     "name": "stdout",
     "output_type": "stream",
     "text": [
      "qwr#!  --> True\n",
      "q Qdf  --> False\n"
     ]
    }
   ],
   "source": [
    "## Test the function\n",
    "\n",
    "str1 = \"qwr#!\"\n",
    "str2 = \"q Qdf\"\n",
    "\n",
    "print(\"qwr#!  --> {}\".format(all_unique_chars(str1)))\n",
    "print(\"q Qdf  --> {}\".format(all_unique_chars(str2)))"
   ]
  },
  {
   "cell_type": "markdown",
   "metadata": {},
   "source": [
    "<a id='find_element'></a>\n",
    "\n",
    "#### Find element in a matrix\n",
    "\n"
   ]
  },
  {
   "cell_type": "code",
   "execution_count": 32,
   "metadata": {},
   "outputs": [],
   "source": [
    "def find_element(sq_mat, val):\n",
    "    \"\"\"\n",
    "    The function takes a square matrix of integers and returns a set of all valid\n",
    "    positions (i,j) of a value. Each position should be returned as a tuple of two\n",
    "    integers.\n",
    "\n",
    "    The matrix is structured in the following way:\n",
    "    - each row has strictly decreasing values with the column index increasing\n",
    "    - each column has strictly decreasing values with the row index increasing\n",
    "    The following matrix is an example:\n",
    "\n",
    "    Example 1 :\n",
    "    mat = [ [10, 7, 5],\n",
    "            [ 9, 4, 2],\n",
    "            [ 5, 2, 1] ]\n",
    "    find_element(mat, 4) --> {(1, 1)}\n",
    "\n",
    "    Example 2 :\n",
    "    mat = [ [10, 7, 5],\n",
    "            [ 9, 4, 2],\n",
    "            [ 5, 2, 1] ]\n",
    "    find_element(mat, 5) --> {(0, 2), (2, 0)}\n",
    "\n",
    "    The function should raise an exception ValueError if the value isn't found.\n",
    "\n",
    "    :param sq_mat: the square input matrix with decreasing rows and columns\n",
    "    :type sq_mat:  numpy.array of int\n",
    "    :param val:    the value to be found in the matrix\n",
    "    :type val:     int\n",
    "    :return:       all positions of the value in the matrix\n",
    "    :rtype:        set of tuple of int\n",
    "    :raise ValueError:\n",
    "    \"\"\"\n",
    "\n",
    "    position = set(tuple(coord) for coord in np.argwhere(sq_mat == val))\n",
    "\n",
    "    if not position:\n",
    "        raise ValueError\n",
    "\n",
    "    return position\n",
    "\n",
    "\n"
   ]
  },
  {
   "cell_type": "code",
   "execution_count": 33,
   "metadata": {},
   "outputs": [
    {
     "data": {
      "text/plain": [
       "{(1, 1)}"
      ]
     },
     "execution_count": 33,
     "metadata": {},
     "output_type": "execute_result"
    }
   ],
   "source": [
    "# Test the function:\n",
    "\n",
    "mat = np.array([[10, 7, 5],[9, 4, 2],[5, 2, 1]])\n",
    "\n",
    "find_element(mat, 4)"
   ]
  },
  {
   "cell_type": "markdown",
   "metadata": {},
   "source": [
    "<a id='filter_matrix'></a>\n",
    "\n",
    "#### Filter matrix\n",
    "\n"
   ]
  },
  {
   "cell_type": "code",
   "execution_count": 34,
   "metadata": {},
   "outputs": [],
   "source": [
    "def filter_matrix(mat):\n",
    "    \"\"\"\n",
    "    The function takes an n x p matrix of integers and sets the rows\n",
    "    and columns of every zero-entry to zero.\n",
    "\n",
    "    Example:\n",
    "    [ [1, 2, 3, 1],        [ [0, 2, 0, 1],\n",
    "      [5, 2, 0, 2],   -->    [0, 0, 0, 0],\n",
    "      [0, 1, 3, 3] ]         [0, 0, 0, 0] ]\n",
    "\n",
    "    The complexity of the function should be linear in n and p.\n",
    "\n",
    "    :param mat: input matrix\n",
    "    :type mat:  numpy.array of int\n",
    "    :return:   a matrix where rows and columns of zero entries in mat are zero\n",
    "    :rtype:    numpy.array\n",
    "    \"\"\"\n",
    "\n",
    "    exit_mat = mat\n",
    "    for coord in np.argwhere(mat == 0):\n",
    "        exit_mat[coord[0], :] = 0\n",
    "        exit_mat[:, coord[1]] = 0\n",
    "\n",
    "    return exit_mat"
   ]
  },
  {
   "cell_type": "code",
   "execution_count": 35,
   "metadata": {},
   "outputs": [
    {
     "data": {
      "text/plain": [
       "array([[0, 7, 0, 1],\n",
       "       [0, 0, 0, 0],\n",
       "       [0, 0, 0, 0]])"
      ]
     },
     "execution_count": 35,
     "metadata": {},
     "output_type": "execute_result"
    }
   ],
   "source": [
    "# Test the function\n",
    "\n",
    "mat = np.array([[10, 7, 5, 1],[9, 4, 0, 2],[0, 5, 2, 1]])\n",
    "\n",
    "filter_matrix(mat)"
   ]
  },
  {
   "cell_type": "markdown",
   "metadata": {},
   "source": [
    "<a id='largest_sum'></a>\n",
    "\n",
    "\n",
    "#### Largest sum\n",
    "\n"
   ]
  },
  {
   "cell_type": "code",
   "execution_count": 36,
   "metadata": {},
   "outputs": [],
   "source": [
    "def largest_sum(intlist):\n",
    "    \"\"\"\n",
    "    The function takes a list of integers,\n",
    "    finds the sublist of contiguous values with at least one\n",
    "    element that has the largest sum and returns the sum.\n",
    "    If the list is empty, 0 should be returned.\n",
    "\n",
    "    Example:\n",
    "    [-1, 2, 7, -3] --> the sublist with larger sum is [2, 7], the sum is 9.\n",
    "\n",
    "    :param intlist: input list of integers\n",
    "    :type intlist:  list of int\n",
    "    :return:       the largest sum\n",
    "    :rtype:         int\n",
    "    \"\"\"\n",
    "\n",
    "    if not intlist:\n",
    "        return 0\n",
    "\n",
    "    larger_sum = max(intlist)\n",
    "    for index_i in range(len(intlist)):\n",
    "        for index_j in range(index_i + 1, len(intlist) + 1):\n",
    "            if sum(intlist[index_i:index_j]) > larger_sum:\n",
    "                larger_sum = sum(intlist[index_i:index_j])\n",
    "\n",
    "    return larger_sum"
   ]
  },
  {
   "cell_type": "code",
   "execution_count": 37,
   "metadata": {},
   "outputs": [
    {
     "name": "stdout",
     "output_type": "stream",
     "text": [
      "The largest sum of [-1, 2, 7, -3] is: 9\n"
     ]
    }
   ],
   "source": [
    "## Test the function\n",
    "\n",
    "list1 = [-1, 2, 7, -3]\n",
    "\n",
    "print(\"The largest sum of [-1, 2, 7, -3] is: {}\".format(largest_sum(list1)))\n"
   ]
  },
  {
   "cell_type": "markdown",
   "metadata": {},
   "source": [
    "<a id='pairprod'></a>\n",
    "\n",
    "#### Pair product function\n",
    "\n"
   ]
  },
  {
   "cell_type": "code",
   "execution_count": 38,
   "metadata": {},
   "outputs": [],
   "source": [
    "def pairprod(intlist, val):\n",
    "    \"\"\"\n",
    "    The function takes in a list of positive integers (elements > 0)\n",
    "    and returns all unique pairs of elements whose product is equal to a given\n",
    "    value. The pairs are of the form (i, j) with i<=j.\n",
    "    The ordering of the pairs does not matter.\n",
    "\n",
    "    Example:\n",
    "    ([3, 5, 1, 2, 3, 6], 6) --> {(2, 3), (1, 6)}\n",
    "\n",
    "    Complexity target: subquadratic\n",
    "\n",
    "    :param intlist: input list of integers\n",
    "    :type intlist:  list of int\n",
    "    :param val:     given value products will be compared to\n",
    "    :type val:      int\n",
    "    :return:        pairs of elements such that the product of corresponding\n",
    "                    entries matches the value val\n",
    "    :rtype:         set of tuple\n",
    "    \"\"\"\n",
    "\n",
    "    list_tuple = []\n",
    "    for index_i in range(len(intlist)+1):\n",
    "        for index_j in range(index_i, len(intlist)):\n",
    "            if intlist[index_i]*intlist[index_j] == val:\n",
    "                list_tuple.append(tuple(sorted((intlist[index_i], intlist[index_j]))))\n",
    "\n",
    "    return set(list_tuple)\n"
   ]
  },
  {
   "cell_type": "code",
   "execution_count": 39,
   "metadata": {},
   "outputs": [
    {
     "name": "stdout",
     "output_type": "stream",
     "text": [
      "([3, 5, 1, 2, 3, 6], 6) --> {(2, 3), (1, 6)}\n"
     ]
    }
   ],
   "source": [
    "## Test the function\n",
    "\n",
    "list2 = [3, 5, 1, 2, 3, 6]\n",
    "value = 6\n",
    "\n",
    "print(\"([3, 5, 1, 2, 3, 6], 6) --> {}\".format(pairprod(list2, value)))"
   ]
  },
  {
   "cell_type": "markdown",
   "metadata": {},
   "source": [
    "<a id='moving_averages'></a>\n",
    "\n",
    "### Moving averages"
   ]
  },
  {
   "cell_type": "code",
   "execution_count": 40,
   "metadata": {},
   "outputs": [],
   "source": [
    "def moving_averages(x, k):\n",
    "    \"\"\"\n",
    "    Given a numpy vector x of n > k, compute the moving averages\n",
    "    of length k.  In other words, return a vector z of length\n",
    "    m = n - k + 1 where z_i = mean([x_i, x_i-1, ..., x_i-k+1])\n",
    "\n",
    "    Note that z_i refers to value of z computed from index i\n",
    "    of x, but not z index i. z will be shifted compared to x\n",
    "    since it cannot be computed for the first k-1 values of x.\n",
    "\n",
    "    Example inputs:\n",
    "    - x = [1, 2, 3, 4]\n",
    "    - k = 3\n",
    "\n",
    "    the moving average of 3 is only defined for the last 2\n",
    "    values: [3, 4].\n",
    "    And z = np.array([mean([1,2,3]), mean([2,3,4])])\n",
    "        z = np.array([2.0, 3.0])\n",
    "\n",
    "    :param x: numpy array of dimension n > k\n",
    "    :param k: length of the moving average\n",
    "    :returns: a numpy array z containing the moving averages.\n",
    "    \"\"\"\n",
    "\n",
    "    len_z = len(x) - k + 1\n",
    "    x_m = x[-len_z:]\n",
    "    z_list = []\n",
    "    for value in x_m:\n",
    "        index_x, = np.argwhere(x == value)\n",
    "        z_list.append(x[(index_x[0] + 1 - k):index_x[0] + 1])\n",
    "\n",
    "    return np.mean(z_list, axis=1)\n"
   ]
  },
  {
   "cell_type": "code",
   "execution_count": 41,
   "metadata": {},
   "outputs": [
    {
     "data": {
      "text/plain": [
       "array([2., 3.])"
      ]
     },
     "execution_count": 41,
     "metadata": {},
     "output_type": "execute_result"
    }
   ],
   "source": [
    "# Test the function\n",
    "\n",
    "x = np.array([1, 2, 3, 4])\n",
    "k = 3\n",
    "\n",
    "moving_averages(x,k)\n",
    "    "
   ]
  },
  {
   "cell_type": "markdown",
   "metadata": {},
   "source": [
    "### Block matrix\n",
    "\n",
    "<a id='block_matrix'></a>"
   ]
  },
  {
   "cell_type": "code",
   "execution_count": 42,
   "metadata": {},
   "outputs": [],
   "source": [
    "def block_matrix(A, B):\n",
    "    \"\"\"\n",
    "    Given two numpy matrices A and B of arbitrary dimensions,\n",
    "    return a new numpy matrix of the following form:\n",
    "        [A,0]\n",
    "        [0,B]\n",
    "\n",
    "    Example inputs:\n",
    "        A = [1,2]    B = [5,6]\n",
    "            [3,4]        [7,8]\n",
    "\n",
    "    Expected output:\n",
    "        [1,2,0,0]\n",
    "        [3,4,0,0]\n",
    "        [0,0,5,6]\n",
    "        [0,0,7,8]\n",
    "\n",
    "    :param A: numpy array\n",
    "    :param B: numpy array\n",
    "    :returns: a numpy array with A and B on the diagonal.\n",
    "    \"\"\"\n",
    "\n",
    "    a_zeros_right = np.insert(A, A.shape[1], np.zeros((B.shape[1], A.shape[0])), axis=1)\n",
    "    b_zeros_left = np.insert(B, 0, np.zeros((A.shape[1], B.shape[0])), axis=1)\n",
    "\n",
    "    return np.insert(b_zeros_left, 0, a_zeros_right, axis=0)"
   ]
  },
  {
   "cell_type": "code",
   "execution_count": 43,
   "metadata": {},
   "outputs": [
    {
     "data": {
      "text/plain": [
       "array([[1, 2, 0, 0],\n",
       "       [3, 4, 0, 0],\n",
       "       [0, 0, 5, 6],\n",
       "       [0, 0, 7, 8]])"
      ]
     },
     "execution_count": 43,
     "metadata": {},
     "output_type": "execute_result"
    }
   ],
   "source": [
    "## Test the function\n",
    "A = np.array([[1,2], [3,4]]) \n",
    "B = np.array([[5,6], [7,8]])\n",
    "\n",
    "block_matrix(A, B)"
   ]
  },
  {
   "cell_type": "code",
   "execution_count": null,
   "metadata": {},
   "outputs": [],
   "source": [
    "\n",
    "\n",
    "\n",
    "\n",
    "\n",
    "\n",
    "\n"
   ]
  }
 ],
 "metadata": {
  "kernelspec": {
   "display_name": "Python 3",
   "language": "python",
   "name": "python3"
  },
  "language_info": {
   "codemirror_mode": {
    "name": "ipython",
    "version": 3
   },
   "file_extension": ".py",
   "mimetype": "text/x-python",
   "name": "python",
   "nbconvert_exporter": "python",
   "pygments_lexer": "ipython3",
   "version": "3.7.4"
  }
 },
 "nbformat": 4,
 "nbformat_minor": 4
}
